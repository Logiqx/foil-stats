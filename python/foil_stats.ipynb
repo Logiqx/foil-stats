{
 "cells": [
  {
   "cell_type": "markdown",
   "id": "fe8a6d86",
   "metadata": {},
   "source": [
    "# Foil Stats\n",
    "\n",
    "Copyright 2022 Michael George (AKA Logiqx).\n",
    "\n",
    "This file is part of [GPS Wizard](https://github.com/Logiqx/gps-wizard) and is distributed under the terms of the GNU General Public License.\n",
    "\n",
    "GPS Wizard is free software: you can redistribute it and/or modify it under the terms of the GNU General Public License as published by the Free Software Foundation, either version 3 of the License, or (at your option) any later version.\n",
    "\n",
    "GPS Wizard is distributed in the hope that it will be useful, but WITHOUT ANY WARRANTY; without even the implied warranty of MERCHANTABILITY or FITNESS FOR A PARTICULAR PURPOSE. See the GNU General Public License for more details.\n",
    "\n",
    "You should have received a copy of the GNU General Public License along with GPS Wizard. If not, see <https://www.gnu.org/licenses/>."
   ]
  },
  {
   "cell_type": "code",
   "execution_count": 1,
   "id": "b834d7a5",
   "metadata": {},
   "outputs": [],
   "source": [
    "import os\n",
    "import sys\n",
    "import json"
   ]
  },
  {
   "cell_type": "code",
   "execution_count": 2,
   "id": "de4dcb1e",
   "metadata": {},
   "outputs": [],
   "source": [
    "def process():\n",
    "    '''Process foils'''\n",
    "    \n",
    "    filename = os.path.join(projdir, 'config', 'foils.json')\n",
    "    \n",
    "    with open(filename) as f:\n",
    "        foils = json.loads(f.read())\n",
    "        \n",
    "        for brand, ranges in foils.items():          \n",
    "            print(brand, ranges.keys())"
   ]
  },
  {
   "cell_type": "code",
   "execution_count": 3,
   "id": "52be79ea",
   "metadata": {},
   "outputs": [
    {
     "name": "stdout",
     "output_type": "stream",
     "text": [
      "Boss dict_keys(['5.0 Racefoil (Slalom)'])\n",
      "F4 Foils dict_keys(['Slalom / Speed'])\n",
      "Neil Pryde dict_keys(['SLR'])\n",
      "Phantom dict_keys(['2021-2023'])\n",
      "Starboard dict_keys(['Race', 'Evolution', 'SLR'])\n",
      "Z Fins dict_keys(['Z PWA Windfoil'])\n",
      "\n",
      "All done!\n"
     ]
    }
   ],
   "source": [
    "if __name__ == '__main__':\n",
    "    projdir = os.path.realpath(os.path.join(sys.path[0], \"..\"))\n",
    "\n",
    "    process()\n",
    "    \n",
    "    print(os.linesep + 'All done!')"
   ]
  },
  {
   "cell_type": "code",
   "execution_count": null,
   "id": "a6017a8d",
   "metadata": {},
   "outputs": [],
   "source": []
  }
 ],
 "metadata": {
  "kernelspec": {
   "display_name": "Python 3 (ipykernel)",
   "language": "python",
   "name": "python3"
  },
  "language_info": {
   "codemirror_mode": {
    "name": "ipython",
    "version": 3
   },
   "file_extension": ".py",
   "mimetype": "text/x-python",
   "name": "python",
   "nbconvert_exporter": "python",
   "pygments_lexer": "ipython3",
   "version": "3.9.7"
  }
 },
 "nbformat": 4,
 "nbformat_minor": 5
}
