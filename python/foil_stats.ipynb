{
 "cells": [
  {
   "cell_type": "markdown",
   "id": "fe8a6d86",
   "metadata": {},
   "source": [
    "# Foil Stats\n",
    "\n",
    "Copyright 2022 Michael George (AKA Logiqx).\n",
    "\n",
    "This file is part of [GPS Wizard](https://github.com/Logiqx/gps-wizard) and is distributed under the terms of the GNU General Public License.\n",
    "\n",
    "GPS Wizard is free software: you can redistribute it and/or modify it under the terms of the GNU General Public License as published by the Free Software Foundation, either version 3 of the License, or (at your option) any later version.\n",
    "\n",
    "GPS Wizard is distributed in the hope that it will be useful, but WITHOUT ANY WARRANTY; without even the implied warranty of MERCHANTABILITY or FITNESS FOR A PARTICULAR PURPOSE. See the GNU General Public License for more details.\n",
    "\n",
    "You should have received a copy of the GNU General Public License along with GPS Wizard. If not, see <https://www.gnu.org/licenses/>."
   ]
  },
  {
   "cell_type": "code",
   "execution_count": 1,
   "id": "b834d7a5",
   "metadata": {},
   "outputs": [],
   "source": [
    "import os\n",
    "import sys\n",
    "import json\n",
    "\n",
    "import numpy as np\n",
    "import matplotlib.pyplot as plt"
   ]
  },
  {
   "cell_type": "code",
   "execution_count": 2,
   "id": "de4dcb1e",
   "metadata": {},
   "outputs": [],
   "source": [
    "def processFoils():\n",
    "    '''Process foils in JSON'''\n",
    "    \n",
    "    filename = os.path.join(projdir, 'config', 'foils.json')\n",
    "    \n",
    "    with open(filename) as f:\n",
    "        foils = json.loads(f.read())\n",
    "        \n",
    "        for brandName, ranges in foils.items():\n",
    "            for rangeName, rangeData in ranges.items():\n",
    "\n",
    "                labels = []\n",
    "                spans = []\n",
    "                areas = []\n",
    "\n",
    "                for wingName, wingData in rangeData['Front'].items():\n",
    "                    if 'Span' in wingData and 'Area' in wingData:\n",
    "                        labels.append(wingName)\n",
    "                        spans.append(wingData['Span'])\n",
    "                        areas.append(wingData['Area'])\n",
    "\n",
    "                if len(labels) > 1:\n",
    "                    drawChart(brandName, rangeName, labels, spans, areas)\n",
    "\n",
    "\n",
    "def drawChart(brandName, rangeName, labels, spans, areas):\n",
    "    '''Draw chart for single foil range'''\n",
    "\n",
    "    fig, ax = plt.subplots(1, figsize=(8, 4), dpi=100)\n",
    "\n",
    "    # Axis title and labels\n",
    "    ax.set_title('{} - {}'.format(brandName, rangeName))\n",
    "    ax.set_xlabel('Area (cm²)')\n",
    "    ax.set_ylabel('Span² (mm²)')  \n",
    "\n",
    "    # Simple scatter chart\n",
    "    x = areas\n",
    "    y = [span * span for span in spans]\n",
    "    ax.scatter(x, y)\n",
    "\n",
    "    # Limits for x and y, plus labels / ticks\n",
    "    ax.set_xlim(0, 1100)\n",
    "    ax.set_ylim(0, 1100000)\n",
    "    ax.set_xticks(np.arange(0, 1100, 100))\n",
    "    ax.set_yticks(np.arange(0, 1100000, 100000))\n",
    "\n",
    "    # Add trend line\n",
    "    slope, intercept = np.polyfit(x, y, 1)\n",
    "    x = np.linspace(0, 1000, 100)\n",
    "    y = slope * x + intercept\n",
    "    ax.plot(x, y)"
   ]
  },
  {
   "cell_type": "code",
   "execution_count": 3,
   "id": "52be79ea",
   "metadata": {},
   "outputs": [
    {
     "name": "stdout",
     "output_type": "stream",
     "text": [
      "\n",
      "All done!\n"
     ]
    }
   ],
   "source": [
    "if __name__ == '__main__':\n",
    "    projdir = os.path.realpath(os.path.join(sys.path[0], \"..\"))\n",
    "\n",
    "    processFoils()\n",
    "    \n",
    "    print(os.linesep + 'All done!')"
   ]
  },
  {
   "cell_type": "code",
   "execution_count": null,
   "id": "a6017a8d",
   "metadata": {},
   "outputs": [],
   "source": []
  }
 ],
 "metadata": {
  "kernelspec": {
   "display_name": "Python 3 (ipykernel)",
   "language": "python",
   "name": "python3"
  },
  "language_info": {
   "codemirror_mode": {
    "name": "ipython",
    "version": 3
   },
   "file_extension": ".py",
   "mimetype": "text/x-python",
   "name": "python",
   "nbconvert_exporter": "python",
   "pygments_lexer": "ipython3",
   "version": "3.9.7"
  }
 },
 "nbformat": 4,
 "nbformat_minor": 5
}
